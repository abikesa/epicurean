{
 "cells": [
  {
   "cell_type": "markdown",
   "metadata": {},
   "source": [
    "(risk)=\n",
    "# Risks After Donation\n",
    "\n",
    "## Perioperative and Long-term risks following nephrectomy in older live kidney donors \n",
    "\n",
    "```{figure} https://www.tmc.edu/news/wp-content/uploads/sites/2/2019/08/kidney-copy.jpg\n",
    "---\n",
    "width:100%\n",
    "height:100%\n",
    "---\n",
    "_An 84-year-old man becomes oldest living kidney donor in the United States at Houston Methodist Hospital in May 2019_. What are the perioperative and long-term risks attributable to donation at such an age?\n",
    "```"
   ]
  }
 ],
 "metadata": {
  "kernelspec": {
   "display_name": "myenv",
   "language": "python",
   "name": "python3"
  },
  "language_info": {
   "codemirror_mode": {
    "name": "ipython",
    "version": 3
   },
   "file_extension": ".py",
   "mimetype": "text/x-python",
   "name": "python",
   "nbconvert_exporter": "python",
   "pygments_lexer": "ipython3",
   "version": "3.12.4"
  },
  "widgets": {
   "application/vnd.jupyter.widget-state+json": {
    "state": {},
    "version_major": 2,
    "version_minor": 0
   }
  }
 },
 "nbformat": 4,
 "nbformat_minor": 4
}
