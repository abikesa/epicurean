{
 "cells": [
  {
   "cell_type": "markdown",
   "metadata": {},
   "source": [
    "(risk)=\n",
    "# Risks After Donation\n",
    "\n",
    "## Perioperative and Long-term risks following nephrectomy in older live kidney donors \n",
    "\n",
    "```{figure} https://www.tmc.edu/news/wp-content/uploads/sites/2/2019/08/kidney-copy.jpg\n",
    "---\n",
    "width:100%\n",
    "height:100%\n",
    "---\n",
    "An 84-year-old man became one of the oldest living kidney donors in the United States in May 2019. The consent process for donor candidates of advanced age relies on data extrapolated from younger cohorts, typically with a median age of 40 years. As the demographic profile of living kidney donors continues to age, gaps in both present and missing data become increasingly evident. This highlights the need to systematically characterize existing data and address these gaps to better inform consent processes and optimize outcomes. Frailty, which is strongly associated with a significantly increased risk of perioperative complications, {cite}`Makary2010` remains uncaptured in most existing databases. The absence of this critical metric creates additional challenges, particularly in consenting older individuals considering donation.  \n",
    "Photo Source: [Houston Methodist](https://www.houstonmethodist.org/newsroom/an-84-year-old-man-becomes-oldest-living-kidney-donor-in-the-united-states-at-houston-methodist/)\n",
    "```\n",
    "\n",
    "<Details>\n",
    "    <Summary> Timeline </Summary>\n",
    "\n",
    "Reference: click [here](https://muzaale.github.io/thesis/intro.html) to review the previous thesis committee presentation\n",
    "\n",
    "|      **YEAR**        | 2|      |      |      | 3|      |      |      | 4|      |      |      | 5 |      |      |      |\n",
    "|----------------|--------|------|------|------|--------|------|------|------|--------|------|------|------|--------|------|------|------|\n",
    "| **TERM**       | 1      | 2    | 3    | 4    | 1      | 2    | 3    | 4    | 1      | 2    | 3    | 4    | 1      | 2    | 3    | 4    |\n",
    "| **Preliminary Oral Exam $^1$** |        |      | ✔    |      |        |      |      |      |        |      |      |      |        |      |      |      |\n",
    "| **Secure Data Use Agreements $^2$** |        |      |      | ✔    | ✔    | ✔    |      |      |        |      |      |      |        |      |      |      |\n",
    "| **Access to Datasets $^3$**    |        |      |      |      |      | ✔    | ✔    |      |        |      |      |      |        |      |      |      |\n",
    "| **Curating Datasets $^4$**    |        |      |      |      |      |      |      | ✔    | ✔    |      |      |      |        |      |      |      |\n",
    "| **Analysis $^5$** |        |      |      |      |      |      |      |      |      | ✔    | ✔    | ✔    |      |      |      |      |\n",
    "| **Iterate $^6$** |        |      |      |      |      |      |      |      |      |      |      | ✔    | ✔    | ✔    |      |      |\n",
    "| **Draft Thesis $^7$** |        |      |      |      |      |      |      |      |      |      |      |      |     |    ✔ |     ✔ |      |\n",
    "| **Thesis Defense $^8$** |        |      |      |      |      |      |      |      |      |      |      |      |      |    |   ✔    |      |\n",
    "| **Publish Manuscripts $^9$** |        |      |      |      |      |      |      |      |      |      |      |      |      |      |      | ✔    |\n",
    "\n",
    "\n",
    "#\n",
    "\n",
    "# \n",
    "\n",
    "1. Preliminary Oral Exam\n",
    "   - April 1, 2022\n",
    "   - Propose research topic and specific aims\n",
    "2. Secure Data Use Agreements\n",
    "   - National center for Health Statistics (NCHS)\n",
    "   - Scientific Registry of Transplant Recipients (SRTR)\n",
    "3. Access to Datasets\n",
    "   - Remove access to NCHS in Hyattsville, MD\n",
    "   - Remove access to Donor registry in Minneapolis, MN\n",
    "4. Curating Datasets\n",
    "   - Prepare NCHS & SRTR datasets for specified statistical analyses\n",
    "   - Refine and beta-test Stata/R scripts for this purpose\n",
    "5. Analysis\n",
    "   - Exploratory analyses\n",
    "   - Preliminary analyses\n",
    "   - `Discuss preliminary findings with mentors`\n",
    "6. Iterations\n",
    "   - Receive feedback from mentors\n",
    "   - Incorporate feedback in updated analysis\n",
    "   - Further discussions with mentors\n",
    "7. Draft Thesis\n",
    "   - Prepare draft of Doctoral Thesis\n",
    "   - Make revisions based on feedback\n",
    "8. Thesis Defense\n",
    "   - Schedule date\n",
    "   - Defend\n",
    "9. Publish Manuscripts\n",
    "   - Write manuscripts derived from specific aims of Thesis\n",
    "   - Submit for peer-review\n",
    "\n",
    "</Details>\n",
    "\n"
   ]
  }
 ],
 "metadata": {
  "kernelspec": {
   "display_name": "myenv",
   "language": "python",
   "name": "python3"
  },
  "language_info": {
   "codemirror_mode": {
    "name": "ipython",
    "version": 3
   },
   "file_extension": ".py",
   "mimetype": "text/x-python",
   "name": "python",
   "nbconvert_exporter": "python",
   "pygments_lexer": "ipython3",
   "version": "3.12.4"
  },
  "widgets": {
   "application/vnd.jupyter.widget-state+json": {
    "state": {},
    "version_major": 2,
    "version_minor": 0
   }
  }
 },
 "nbformat": 4,
 "nbformat_minor": 4
}
