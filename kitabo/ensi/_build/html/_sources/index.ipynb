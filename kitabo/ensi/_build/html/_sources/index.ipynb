{
 "cells": [
  {
   "cell_type": "markdown",
   "metadata": {},
   "source": [
    "(risk)=\n",
    "# Risks After Donation\n",
    "\n",
    "## Perioperative and Long-term risks following nephrectomy in older live kidney donors \n",
    "\n",
    "```{figure} https://www.tmc.edu/news/wp-content/uploads/sites/2/2019/08/kidney-copy.jpg\n",
    "---\n",
    "width:100%\n",
    "height:100%\n",
    "---\n",
    "An 84-year-old man became one of the oldest living kidney donors in the United States in May 2019. The consent process for donor candidates of advanced age relies on data extrapolated from younger cohorts, typically with a median age of 40 years. As the demographic profile of living kidney donors continues to age, gaps in both present and missing data become increasingly evident. This highlights the need to systematically characterize existing data and address these gaps to better inform consent processes and optimize outcomes. Frailty, which is strongly associated with a significantly increased risk of perioperative complications, {cite}`Makary2010` remains uncaptured in most existing databases. The absence of this critical metric creates additional challenges, particularly in consenting older individuals considering donation.  \n",
    "Photo Source: [Houston Methodist](https://www.houstonmethodist.org/newsroom/an-84-year-old-man-becomes-oldest-living-kidney-donor-in-the-united-states-at-houston-methodist/)\n",
    "```"
   ]
  }
 ],
 "metadata": {
  "kernelspec": {
   "display_name": "myenv",
   "language": "python",
   "name": "python3"
  },
  "language_info": {
   "codemirror_mode": {
    "name": "ipython",
    "version": 3
   },
   "file_extension": ".py",
   "mimetype": "text/x-python",
   "name": "python",
   "nbconvert_exporter": "python",
   "pygments_lexer": "ipython3",
   "version": "3.12.4"
  },
  "widgets": {
   "application/vnd.jupyter.widget-state+json": {
    "state": {},
    "version_major": 2,
    "version_minor": 0
   }
  }
 },
 "nbformat": 4,
 "nbformat_minor": 4
}
