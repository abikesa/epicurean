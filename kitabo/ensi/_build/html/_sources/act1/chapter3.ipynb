{
 "cells": [
  {
   "cell_type": "markdown",
   "metadata": {},
   "source": [
    "# 90-Day Risk Attributable to Living Kidney Donation"
   ]
  },
  {
   "cell_type": "markdown",
   "metadata": {},
   "source": [
    "## Answering The Urgent Call to Action\n",
    "\n",
    "## App Features\n",
    "\n",
    "We briefly explore the methodologies used to estimate attributable risks associated with donation, the challenges of identifying true nondonor controls, and the implications of these risks in clinical practice.\n",
    "\n",
    "## Defining Donation-Attributable Risk\n",
    "\n",
    "Donation-attributable risk refers to the additional risk that living kidney donation imposes on an individual over their lifetime. This risk is not simply the outcome of donation but the **incremental burden** beyond what would be expected in a healthy, eligible non-donor cohort. Accurate quantification requires a comprehensive understanding of both **perioperative risks** and **long-term outcomes**, including:\n",
    "\n",
    "1. **Mortality**: Risks of death attributable to surgical complications and subsequent health impacts.\n",
    "2. **ESRD**: Long-term risk of kidney failure, accounting for reduced nephron mass post-donation.\n",
    "3. **Hospitalization**: Risks of morbidity leading to significant healthcare utilization.\n",
    "\n",
    "To isolate these risks, robust statistical models must compare donors to a population that mirrors their baseline health and socio-demographic characteristics.\n",
    "\n",
    "## Challenges in Isolating Attributable Risk\n",
    "\n",
    "### 1. Identifying True Nondonor Controls\n",
    "A critical limitation in estimating donation-attributable risk is the lack of true controls: individuals who meet all criteria for donation but choose not to proceed. Such a group would ideally represent the baseline risk of the donor candidate pool. Current methods often rely on population-level data, such as the NHANES dataset, to construct a comparator group. However, this introduces challenges:\n",
    "\n",
    "- **Selection Bias**: Donors undergo rigorous medical screening, making them healthier on average than the general population.\n",
    "- **Unmeasured Confounding**: Variables such as frailty, psychosocial factors, and access to healthcare are not always captured.\n",
    "\n",
    "### 2. Overlapping Pathways\n",
    "Biological pathways leading to ESRD, hospitalization, or mortality are multifactorial and interconnected. For instance:\n",
    "\n",
    "- **Nephron Reserve Hypothesis**: Reduction in nephron mass after donation may predispose donors to renal complications under stress.\n",
    "- **Psychological Stressors**: Long-term psychosocial impacts of donation may influence overall health. \n",
    "\n",
    "### 3. Data Limitations\n",
    "Existing datasets like SRTR provide detailed outcomes for donors but lack comparable depth for nondonor cohorts. Conversely, NHANES offers robust population-level data but lacks the specificity needed to accurately model donor evaluation process. {cite}`Kumar2018` Bridging these gaps requires innovative modeling techniques.\n",
    "\n",
    "## Methodological Approaches\n",
    "\n",
    "### Directed Acyclic Graphs (DAGs)\n",
    "DAGs are invaluable for visualizing relationships between risk factors and isolating pathways specific to kidney disease and donation. For example:\n",
    "\n",
    "- **Known Variables**: GFR, urine albumin-creatinine ratio, and hypertension.\n",
    "- **Latent Nodes**: Represent unmeasured variables, such as frailty in the older donor candidate, that mediate the relationship between donation and adverse outcomes such as perioperative death. {cite}`Makary2010`\n",
    "\n",
    "### Multivariable Regression\n",
    "Advanced regression techniques can adjust for confounding variables, providing more precise estimates of attributable risk. However, these models rely on assumptions about data completeness and the absence of unmeasured confounders.\n",
    "\n",
    "## Rich Visualizations of Risk\n",
    "\n",
    "The dynamic visualizations embedded in the app highlight the nuanced differences between risks for donors and their matched nondonor counterparts. For instance:\n",
    "\n",
    "<iframe src=\"../testbin/test5/index.html\" style=\"width:100%;height:900px\"></iframe>\n",
    "\n",
    "```{figure} ../figures/blanche.*\n",
    "---\n",
    "width: 1\n",
    "height: 1\n",
    "---\n",
    "_Risk of Death Within 90 Days of Living Kidney Donation vs. Risk of Death Within 90 Days of Being Deemed Eligible to Donate_. The difference between these two risks informs the prospective donor about the risk their decision to donate carries. This address Locke's urgent call in the recent editorial {cite}`Locke2024` and complements Massie's recent report on the overall risk faced by the donor. {cite}`massie2024thirty`\n",
    "```\n",
    "\n",
    "These visualizations are made possible through Kaplan-Meier curves derived from base-case functions, beta coefficient vectors, and variance-covariance matrices. By rendering these results interactively, the app empowers users to explore and understand the risks associated with donation in a transparent and engaging way. We not only personalize the risk estimates, but visualize the error in each personalized estimate in both the donor and nondonor scenarios.\n",
    "\n",
    "## Clinical Implications\n",
    "\n",
    "### Informing Consent\n",
    "Quantifying donation-attributable risk ensures that prospective donors can make informed decisions based on individualized risk profiles. Tools like the app described earlier in this book provide dynamic visualizations of risks, enabling clear communication between donors and clinicians.\n",
    "\n",
    "### Improving Guidelines\n",
    "By integrating findings from donor and nondonor comparisons, guidelines for donor eligibility can be refined to address specific risks for older donors, such as frailty and reduced nephron reserve.\n",
    "\n",
    "### Future Directions\n",
    "The absence of true nondonor controls highlights the need for innovative data collection and modeling. Emerging technologies, such as natural language processing (NLP), may extract frailty metrics from clinical notes, filling critical gaps in current datasets. {cite}`Chen2019GeriatricSyndromes` Collaboration across institutions to harmonize data standards will also enhance the generalizability of findings.\n",
    "\n",
    "## Conclusion\n",
    "\n",
    "Understanding donation-attributable risk is pivotal in optimizing outcomes for living kidney donors. While significant challenges remain, advances in statistical modeling, data integration, and technology offer promising pathways to address these gaps. This chapter underscores the importance of ongoing research to refine our understanding of these risks, ensuring that the act of donation remains both informed and safe for all involved.\n",
    "\n"
   ]
  }
 ],
 "metadata": {
  "kernelspec": {
   "display_name": "myenv",
   "language": "python",
   "name": "python3"
  },
  "language_info": {
   "codemirror_mode": {
    "name": "ipython",
    "version": 3
   },
   "file_extension": ".py",
   "mimetype": "text/x-python",
   "name": "python",
   "nbconvert_exporter": "python",
   "pygments_lexer": "ipython3",
   "version": "3.12.4"
  },
  "widgets": {
   "application/vnd.jupyter.widget-state+json": {
    "state": {},
    "version_major": 2,
    "version_minor": 0
   }
  }
 },
 "nbformat": 4,
 "nbformat_minor": 4
}
