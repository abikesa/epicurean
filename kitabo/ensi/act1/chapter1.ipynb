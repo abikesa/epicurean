{
 "cells": [
  {
   "cell_type": "markdown",
   "metadata": {},
   "source": [
    "# 90-Day Risk of Death Following Living Kidney Donation\n",
    "\n",
    "\n",
    "\n",
    "<iframe \n",
    "    src=\"../pdfs/jama_massie_2024.pdf\" \n",
    "    style=\"width:100%;height:3400px;borders:none;\">\n",
    "</iframe>\n",
    "\n",
    "```{figure} ../figures/blanche.*\n",
    "---\n",
    "width: 1\n",
    "height: 1\n",
    "---\n",
    "_Risk of Death Within 90 Days of Living Kidney Donation_. Surgical literature typically describes perioperative risk only within a 30-day window. However, living kidney donor literature has used a more inclusive 90-day window for reasons beyond the scope of this discussion. {cite}`segev2010perioperative` {cite}`massie2024thirty`\n",
    "```\n",
    "\n"
   ]
  }
 ],
 "metadata": {
  "kernelspec": {
   "display_name": "myenv",
   "language": "python",
   "name": "python3"
  },
  "language_info": {
   "codemirror_mode": {
    "name": "ipython",
    "version": 3
   },
   "file_extension": ".py",
   "mimetype": "text/x-python",
   "name": "python",
   "nbconvert_exporter": "python",
   "pygments_lexer": "ipython3",
   "version": "3.12.4"
  },
  "widgets": {
   "application/vnd.jupyter.widget-state+json": {
    "state": {},
    "version_major": 2,
    "version_minor": 0
   }
  }
 },
 "nbformat": 4,
 "nbformat_minor": 4
}
